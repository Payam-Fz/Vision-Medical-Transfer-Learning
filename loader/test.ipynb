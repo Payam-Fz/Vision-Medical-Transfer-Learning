{
 "cells": [
  {
   "cell_type": "code",
   "execution_count": 9,
   "metadata": {},
   "outputs": [],
   "source": [
    "# from mimic_cxr_jpg_loader import MIMIC_CXR_JPG_Loader\n",
    "import os\n",
    "import gzip\n",
    "import pandas as pd\n",
    "\n",
    "data_folder = '../data/physionet.org/files/mimic-cxr-jpg/2.0.0/files'\n",
    "csv_folder = '../data/physionet.org/files/mimic-cxr-jpg/2.0.0'\n",
    "chexpert_csv_file = 'mimic-cxr-2.0.0-chexpert.csv.gz'"
   ]
  },
  {
   "cell_type": "code",
   "execution_count": 35,
   "metadata": {},
   "outputs": [
    {
     "data": {
      "text/plain": [
       "1.0"
      ]
     },
     "execution_count": 35,
     "metadata": {},
     "output_type": "execute_result"
    }
   ],
   "source": [
    "with gzip.open(os.path.join(csv_folder, chexpert_csv_file), 'rt') as file:\n",
    "    label_csv = pd.read_csv(file)\n",
    "    labels_df = label_csv[(label_csv['subject_id'] == 10000032) & (label_csv['study_id'] == 50414267)]\n",
    "    labels = labels_df.values.flatten()\n",
    "    #labels_dict = labels_df.to_dict(orient='records')[0]\n",
    "assert(labels_df.shape[0] == 1)\n",
    "labels_df.loc[0, 'No Finding']\n",
    "#label_csv['subject_id']"
   ]
  },
  {
   "cell_type": "code",
   "execution_count": null,
   "metadata": {},
   "outputs": [],
   "source": [
    "myCustomDataLoader = MIMIC_CXR_JPG_Loader(data_folder, metadata_csv, split_csv, label_csv)\n",
    "train_dataset, val_dataset, test_dataset, dataset_info = myCustomDataLoader.load(batch_size=32)\n",
    "\n",
    "# Accessing information\n",
    "num_train_images = dataset_info.filter(lambda x: x['split'] == 'train').cardinality().numpy()\n",
    "num_classes = myCustomDataLoader.label_csv.shape[1] - 2  # excluding subject_id and study_id\n",
    "\n",
    "# Accessing images and labels\n",
    "for image, labels in train_dataset.take(1):\n",
    "    print(\"Image Shape:\", image.shape)\n",
    "    print(\"Labels:\", labels)"
   ]
  }
 ],
 "metadata": {
  "kernelspec": {
   "display_name": "Python [conda env:tensorenv] *",
   "language": "python",
   "name": "conda-env-tensorenv-py"
  },
  "language_info": {
   "codemirror_mode": {
    "name": "ipython",
    "version": 3
   },
   "file_extension": ".py",
   "mimetype": "text/x-python",
   "name": "python",
   "nbconvert_exporter": "python",
   "pygments_lexer": "ipython3",
   "version": "3.11.6"
  }
 },
 "nbformat": 4,
 "nbformat_minor": 4
}
